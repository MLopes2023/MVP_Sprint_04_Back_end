{
  "cells": [
    {
      "cell_type": "markdown",
      "metadata": {
        "id": "view-in-github"
      },
      "source": [
        "<a href=\"https://colab.research.google.com/github/dipucriodigital/ciencia-de-dados-e-analytics/blob/main/machine-learning/ML_Aula3b.ipynb\" target=\"_parent\"><img src=\"https://colab.research.google.com/assets/colab-badge.svg\" alt=\"Open In Colab\"/></a>"
      ]
    },
    {
      "cell_type": "markdown",
      "metadata": {
        "id": "otEdveLq8Hn0"
      },
      "source": [
        "## Machine Learning - Aluno: Maurício Lopes da Silva\n",
        "## MVP - Sprint-04 : Qualidade de Software, Segurança e Sistemas Inteligentes"
      ]
    },
    {
      "cell_type": "markdown",
      "metadata": {
        "id": "v6Tck4bKRrPa"
      },
      "source": [
        "## Configuração do ambiente"
      ]
    },
    {
      "cell_type": "code",
      "execution_count": null,
      "metadata": {
        "id": "RCn8CH4M7wF-"
      },
      "outputs": [],
      "source": [
        "# configuração para não exibir os warnings\n",
        "import warnings\n",
        "warnings.filterwarnings(\"ignore\")\n",
        "\n",
        "# Imports necessários\n",
        "import pandas as pd\n",
        "import numpy as np\n",
        "import pickle\n",
        "import matplotlib.pyplot as plt\n",
        "from sklearn.preprocessing import StandardScaler\n",
        "from sklearn.preprocessing import MinMaxScaler\n",
        "from sklearn.model_selection import train_test_split\n",
        "from sklearn.model_selection import KFold\n",
        "from sklearn.model_selection import StratifiedKFold\n",
        "from sklearn.model_selection import cross_val_score\n",
        "from sklearn.model_selection import GridSearchCV\n",
        "from sklearn.metrics import accuracy_score\n",
        "from sklearn.pipeline import Pipeline\n",
        "from sklearn.linear_model import LogisticRegression\n",
        "from sklearn.tree import DecisionTreeClassifier\n",
        "from sklearn.neighbors import KNeighborsClassifier\n",
        "from sklearn.naive_bayes import GaussianNB\n",
        "from sklearn.svm import SVC\n",
        "from sklearn.ensemble import BaggingClassifier\n",
        "from sklearn.ensemble import RandomForestClassifier\n",
        "from sklearn.ensemble import ExtraTreesClassifier\n",
        "from sklearn.ensemble import VotingClassifier\n",
        "from sklearn.ensemble import AdaBoostClassifier\n",
        "from sklearn.ensemble import GradientBoostingClassifier"
      ]
    },
    {
      "cell_type": "markdown",
      "metadata": {
        "id": "2PcB0Efd-MS4"
      },
      "source": [
        "## Carga do Dataset\n",
        "\n",
        "O dataset contém diversas informações de um banco multinacional, com os dados dos seus correntistas, que possam prever a rotatividade dos seus clientes, e o objetivo é prever se o cliente saiu do banco durante algum período ou não.\n",
        "\n",
        "Descrição das Colunas\n",
        "\n",
        "- customer_id: Id do cliente (não utilizado).\n",
        "- credit_score: Pontuação de crédito.\n",
        "- country: País de residência.\n",
        "- gender: Gênero.\n",
        "- age: Idade.\n",
        "- tenure: Há quantos anos tem conta bancária no banco.\n",
        "- balance: Saldo da conta\n",
        "- products_number: Quantidade de Produtos no banco.\n",
        "- credit_card: igual a 1 tem cartão de crédito ou 0 se não.\n",
        "- active_member: igual a 1 se cliente ativo ou 0 se não.\n",
        "- estimated_salary: Salário estimado.\n",
        "- churn: Campo alvo => igual a 1 se o cliente saiu do banco durante algum período ou 0 se não saiu."
      ]
    },
    {
      "cell_type": "code",
      "execution_count": null,
      "metadata": {
        "colab": {
          "base_uri": "https://localhost:8080/",
          "height": 226
        },
        "id": "29AFuCPtvG_i",
        "outputId": "80bcaeab-c6b1-4e23-f0a2-12c19f39a7e3"
      },
      "outputs": [
        {
          "data": {
            "application/vnd.google.colaboratory.intrinsic+json": {
              "summary": "{\n  \"name\": \"dataset\",\n  \"rows\": 10000,\n  \"fields\": [\n    {\n      \"column\": \"customer_id\",\n      \"properties\": {\n        \"dtype\": \"number\",\n        \"std\": 71936,\n        \"min\": 15565701,\n        \"max\": 15815690,\n        \"num_unique_values\": 10000,\n        \"samples\": [\n          15687492,\n          15736963,\n          15721730\n        ],\n        \"semantic_type\": \"\",\n        \"description\": \"\"\n      }\n    },\n    {\n      \"column\": \"credit_score\",\n      \"properties\": {\n        \"dtype\": \"number\",\n        \"std\": 96,\n        \"min\": 350,\n        \"max\": 850,\n        \"num_unique_values\": 460,\n        \"samples\": [\n          754,\n          533,\n          744\n        ],\n        \"semantic_type\": \"\",\n        \"description\": \"\"\n      }\n    },\n    {\n      \"column\": \"country\",\n      \"properties\": {\n        \"dtype\": \"number\",\n        \"std\": 0,\n        \"min\": 1,\n        \"max\": 3,\n        \"num_unique_values\": 3,\n        \"samples\": [\n          1,\n          2,\n          3\n        ],\n        \"semantic_type\": \"\",\n        \"description\": \"\"\n      }\n    },\n    {\n      \"column\": \"gender\",\n      \"properties\": {\n        \"dtype\": \"number\",\n        \"std\": 0,\n        \"min\": 1,\n        \"max\": 2,\n        \"num_unique_values\": 2,\n        \"samples\": [\n          2,\n          1\n        ],\n        \"semantic_type\": \"\",\n        \"description\": \"\"\n      }\n    },\n    {\n      \"column\": \"age\",\n      \"properties\": {\n        \"dtype\": \"number\",\n        \"std\": 10,\n        \"min\": 18,\n        \"max\": 92,\n        \"num_unique_values\": 70,\n        \"samples\": [\n          61,\n          42\n        ],\n        \"semantic_type\": \"\",\n        \"description\": \"\"\n      }\n    },\n    {\n      \"column\": \"tenure\",\n      \"properties\": {\n        \"dtype\": \"number\",\n        \"std\": 2,\n        \"min\": 0,\n        \"max\": 10,\n        \"num_unique_values\": 11,\n        \"samples\": [\n          6,\n          2\n        ],\n        \"semantic_type\": \"\",\n        \"description\": \"\"\n      }\n    },\n    {\n      \"column\": \"balance\",\n      \"properties\": {\n        \"dtype\": \"number\",\n        \"std\": 62397.405202385955,\n        \"min\": 0.0,\n        \"max\": 250898.09,\n        \"num_unique_values\": 6382,\n        \"samples\": [\n          117707.18,\n          133050.97\n        ],\n        \"semantic_type\": \"\",\n        \"description\": \"\"\n      }\n    },\n    {\n      \"column\": \"products_number\",\n      \"properties\": {\n        \"dtype\": \"number\",\n        \"std\": 0,\n        \"min\": 1,\n        \"max\": 4,\n        \"num_unique_values\": 4,\n        \"samples\": [\n          3,\n          4\n        ],\n        \"semantic_type\": \"\",\n        \"description\": \"\"\n      }\n    },\n    {\n      \"column\": \"credit_card\",\n      \"properties\": {\n        \"dtype\": \"number\",\n        \"std\": 0,\n        \"min\": 0,\n        \"max\": 1,\n        \"num_unique_values\": 2,\n        \"samples\": [\n          0,\n          1\n        ],\n        \"semantic_type\": \"\",\n        \"description\": \"\"\n      }\n    },\n    {\n      \"column\": \"active_member\",\n      \"properties\": {\n        \"dtype\": \"number\",\n        \"std\": 0,\n        \"min\": 0,\n        \"max\": 1,\n        \"num_unique_values\": 2,\n        \"samples\": [\n          0,\n          1\n        ],\n        \"semantic_type\": \"\",\n        \"description\": \"\"\n      }\n    },\n    {\n      \"column\": \"estimated_salary\",\n      \"properties\": {\n        \"dtype\": \"number\",\n        \"std\": 57510.49281769816,\n        \"min\": 11.58,\n        \"max\": 199992.48,\n        \"num_unique_values\": 9999,\n        \"samples\": [\n          100809.99,\n          95273.73\n        ],\n        \"semantic_type\": \"\",\n        \"description\": \"\"\n      }\n    },\n    {\n      \"column\": \"churn\",\n      \"properties\": {\n        \"dtype\": \"number\",\n        \"std\": 0,\n        \"min\": 0,\n        \"max\": 1,\n        \"num_unique_values\": 2,\n        \"samples\": [\n          0,\n          1\n        ],\n        \"semantic_type\": \"\",\n        \"description\": \"\"\n      }\n    }\n  ]\n}",
              "type": "dataframe",
              "variable_name": "dataset"
            },
            "text/html": [
              "\n",
              "  <div id=\"df-886025e4-ca1d-4ecd-bde7-f21404c86575\" class=\"colab-df-container\">\n",
              "    <div>\n",
              "<style scoped>\n",
              "    .dataframe tbody tr th:only-of-type {\n",
              "        vertical-align: middle;\n",
              "    }\n",
              "\n",
              "    .dataframe tbody tr th {\n",
              "        vertical-align: top;\n",
              "    }\n",
              "\n",
              "    .dataframe thead th {\n",
              "        text-align: right;\n",
              "    }\n",
              "</style>\n",
              "<table border=\"1\" class=\"dataframe\">\n",
              "  <thead>\n",
              "    <tr style=\"text-align: right;\">\n",
              "      <th></th>\n",
              "      <th>customer_id</th>\n",
              "      <th>credit_score</th>\n",
              "      <th>country</th>\n",
              "      <th>gender</th>\n",
              "      <th>age</th>\n",
              "      <th>tenure</th>\n",
              "      <th>balance</th>\n",
              "      <th>products_number</th>\n",
              "      <th>credit_card</th>\n",
              "      <th>active_member</th>\n",
              "      <th>estimated_salary</th>\n",
              "      <th>churn</th>\n",
              "    </tr>\n",
              "  </thead>\n",
              "  <tbody>\n",
              "    <tr>\n",
              "      <th>0</th>\n",
              "      <td>15634602</td>\n",
              "      <td>619</td>\n",
              "      <td>1</td>\n",
              "      <td>1</td>\n",
              "      <td>42</td>\n",
              "      <td>2</td>\n",
              "      <td>0.00</td>\n",
              "      <td>1</td>\n",
              "      <td>1</td>\n",
              "      <td>1</td>\n",
              "      <td>101348.88</td>\n",
              "      <td>1</td>\n",
              "    </tr>\n",
              "    <tr>\n",
              "      <th>1</th>\n",
              "      <td>15647311</td>\n",
              "      <td>608</td>\n",
              "      <td>2</td>\n",
              "      <td>1</td>\n",
              "      <td>41</td>\n",
              "      <td>1</td>\n",
              "      <td>83807.86</td>\n",
              "      <td>1</td>\n",
              "      <td>0</td>\n",
              "      <td>1</td>\n",
              "      <td>112542.58</td>\n",
              "      <td>0</td>\n",
              "    </tr>\n",
              "    <tr>\n",
              "      <th>2</th>\n",
              "      <td>15619304</td>\n",
              "      <td>502</td>\n",
              "      <td>1</td>\n",
              "      <td>1</td>\n",
              "      <td>42</td>\n",
              "      <td>8</td>\n",
              "      <td>159660.80</td>\n",
              "      <td>3</td>\n",
              "      <td>1</td>\n",
              "      <td>0</td>\n",
              "      <td>113931.57</td>\n",
              "      <td>1</td>\n",
              "    </tr>\n",
              "    <tr>\n",
              "      <th>3</th>\n",
              "      <td>15701354</td>\n",
              "      <td>699</td>\n",
              "      <td>1</td>\n",
              "      <td>1</td>\n",
              "      <td>39</td>\n",
              "      <td>1</td>\n",
              "      <td>0.00</td>\n",
              "      <td>2</td>\n",
              "      <td>0</td>\n",
              "      <td>0</td>\n",
              "      <td>93826.63</td>\n",
              "      <td>0</td>\n",
              "    </tr>\n",
              "    <tr>\n",
              "      <th>4</th>\n",
              "      <td>15737888</td>\n",
              "      <td>850</td>\n",
              "      <td>2</td>\n",
              "      <td>1</td>\n",
              "      <td>43</td>\n",
              "      <td>2</td>\n",
              "      <td>125510.82</td>\n",
              "      <td>1</td>\n",
              "      <td>1</td>\n",
              "      <td>1</td>\n",
              "      <td>79084.10</td>\n",
              "      <td>0</td>\n",
              "    </tr>\n",
              "  </tbody>\n",
              "</table>\n",
              "</div>\n",
              "    <div class=\"colab-df-buttons\">\n",
              "\n",
              "  <div class=\"colab-df-container\">\n",
              "    <button class=\"colab-df-convert\" onclick=\"convertToInteractive('df-886025e4-ca1d-4ecd-bde7-f21404c86575')\"\n",
              "            title=\"Convert this dataframe to an interactive table.\"\n",
              "            style=\"display:none;\">\n",
              "\n",
              "  <svg xmlns=\"http://www.w3.org/2000/svg\" height=\"24px\" viewBox=\"0 -960 960 960\">\n",
              "    <path d=\"M120-120v-720h720v720H120Zm60-500h600v-160H180v160Zm220 220h160v-160H400v160Zm0 220h160v-160H400v160ZM180-400h160v-160H180v160Zm440 0h160v-160H620v160ZM180-180h160v-160H180v160Zm440 0h160v-160H620v160Z\"/>\n",
              "  </svg>\n",
              "    </button>\n",
              "\n",
              "  <style>\n",
              "    .colab-df-container {\n",
              "      display:flex;\n",
              "      gap: 12px;\n",
              "    }\n",
              "\n",
              "    .colab-df-convert {\n",
              "      background-color: #E8F0FE;\n",
              "      border: none;\n",
              "      border-radius: 50%;\n",
              "      cursor: pointer;\n",
              "      display: none;\n",
              "      fill: #1967D2;\n",
              "      height: 32px;\n",
              "      padding: 0 0 0 0;\n",
              "      width: 32px;\n",
              "    }\n",
              "\n",
              "    .colab-df-convert:hover {\n",
              "      background-color: #E2EBFA;\n",
              "      box-shadow: 0px 1px 2px rgba(60, 64, 67, 0.3), 0px 1px 3px 1px rgba(60, 64, 67, 0.15);\n",
              "      fill: #174EA6;\n",
              "    }\n",
              "\n",
              "    .colab-df-buttons div {\n",
              "      margin-bottom: 4px;\n",
              "    }\n",
              "\n",
              "    [theme=dark] .colab-df-convert {\n",
              "      background-color: #3B4455;\n",
              "      fill: #D2E3FC;\n",
              "    }\n",
              "\n",
              "    [theme=dark] .colab-df-convert:hover {\n",
              "      background-color: #434B5C;\n",
              "      box-shadow: 0px 1px 3px 1px rgba(0, 0, 0, 0.15);\n",
              "      filter: drop-shadow(0px 1px 2px rgba(0, 0, 0, 0.3));\n",
              "      fill: #FFFFFF;\n",
              "    }\n",
              "  </style>\n",
              "\n",
              "    <script>\n",
              "      const buttonEl =\n",
              "        document.querySelector('#df-886025e4-ca1d-4ecd-bde7-f21404c86575 button.colab-df-convert');\n",
              "      buttonEl.style.display =\n",
              "        google.colab.kernel.accessAllowed ? 'block' : 'none';\n",
              "\n",
              "      async function convertToInteractive(key) {\n",
              "        const element = document.querySelector('#df-886025e4-ca1d-4ecd-bde7-f21404c86575');\n",
              "        const dataTable =\n",
              "          await google.colab.kernel.invokeFunction('convertToInteractive',\n",
              "                                                    [key], {});\n",
              "        if (!dataTable) return;\n",
              "\n",
              "        const docLinkHtml = 'Like what you see? Visit the ' +\n",
              "          '<a target=\"_blank\" href=https://colab.research.google.com/notebooks/data_table.ipynb>data table notebook</a>'\n",
              "          + ' to learn more about interactive tables.';\n",
              "        element.innerHTML = '';\n",
              "        dataTable['output_type'] = 'display_data';\n",
              "        await google.colab.output.renderOutput(dataTable, element);\n",
              "        const docLink = document.createElement('div');\n",
              "        docLink.innerHTML = docLinkHtml;\n",
              "        element.appendChild(docLink);\n",
              "      }\n",
              "    </script>\n",
              "  </div>\n",
              "\n",
              "\n",
              "<div id=\"df-803712b7-5d70-4e7c-a820-7b1458b44998\">\n",
              "  <button class=\"colab-df-quickchart\" onclick=\"quickchart('df-803712b7-5d70-4e7c-a820-7b1458b44998')\"\n",
              "            title=\"Suggest charts\"\n",
              "            style=\"display:none;\">\n",
              "\n",
              "<svg xmlns=\"http://www.w3.org/2000/svg\" height=\"24px\"viewBox=\"0 0 24 24\"\n",
              "     width=\"24px\">\n",
              "    <g>\n",
              "        <path d=\"M19 3H5c-1.1 0-2 .9-2 2v14c0 1.1.9 2 2 2h14c1.1 0 2-.9 2-2V5c0-1.1-.9-2-2-2zM9 17H7v-7h2v7zm4 0h-2V7h2v10zm4 0h-2v-4h2v4z\"/>\n",
              "    </g>\n",
              "</svg>\n",
              "  </button>\n",
              "\n",
              "<style>\n",
              "  .colab-df-quickchart {\n",
              "      --bg-color: #E8F0FE;\n",
              "      --fill-color: #1967D2;\n",
              "      --hover-bg-color: #E2EBFA;\n",
              "      --hover-fill-color: #174EA6;\n",
              "      --disabled-fill-color: #AAA;\n",
              "      --disabled-bg-color: #DDD;\n",
              "  }\n",
              "\n",
              "  [theme=dark] .colab-df-quickchart {\n",
              "      --bg-color: #3B4455;\n",
              "      --fill-color: #D2E3FC;\n",
              "      --hover-bg-color: #434B5C;\n",
              "      --hover-fill-color: #FFFFFF;\n",
              "      --disabled-bg-color: #3B4455;\n",
              "      --disabled-fill-color: #666;\n",
              "  }\n",
              "\n",
              "  .colab-df-quickchart {\n",
              "    background-color: var(--bg-color);\n",
              "    border: none;\n",
              "    border-radius: 50%;\n",
              "    cursor: pointer;\n",
              "    display: none;\n",
              "    fill: var(--fill-color);\n",
              "    height: 32px;\n",
              "    padding: 0;\n",
              "    width: 32px;\n",
              "  }\n",
              "\n",
              "  .colab-df-quickchart:hover {\n",
              "    background-color: var(--hover-bg-color);\n",
              "    box-shadow: 0 1px 2px rgba(60, 64, 67, 0.3), 0 1px 3px 1px rgba(60, 64, 67, 0.15);\n",
              "    fill: var(--button-hover-fill-color);\n",
              "  }\n",
              "\n",
              "  .colab-df-quickchart-complete:disabled,\n",
              "  .colab-df-quickchart-complete:disabled:hover {\n",
              "    background-color: var(--disabled-bg-color);\n",
              "    fill: var(--disabled-fill-color);\n",
              "    box-shadow: none;\n",
              "  }\n",
              "\n",
              "  .colab-df-spinner {\n",
              "    border: 2px solid var(--fill-color);\n",
              "    border-color: transparent;\n",
              "    border-bottom-color: var(--fill-color);\n",
              "    animation:\n",
              "      spin 1s steps(1) infinite;\n",
              "  }\n",
              "\n",
              "  @keyframes spin {\n",
              "    0% {\n",
              "      border-color: transparent;\n",
              "      border-bottom-color: var(--fill-color);\n",
              "      border-left-color: var(--fill-color);\n",
              "    }\n",
              "    20% {\n",
              "      border-color: transparent;\n",
              "      border-left-color: var(--fill-color);\n",
              "      border-top-color: var(--fill-color);\n",
              "    }\n",
              "    30% {\n",
              "      border-color: transparent;\n",
              "      border-left-color: var(--fill-color);\n",
              "      border-top-color: var(--fill-color);\n",
              "      border-right-color: var(--fill-color);\n",
              "    }\n",
              "    40% {\n",
              "      border-color: transparent;\n",
              "      border-right-color: var(--fill-color);\n",
              "      border-top-color: var(--fill-color);\n",
              "    }\n",
              "    60% {\n",
              "      border-color: transparent;\n",
              "      border-right-color: var(--fill-color);\n",
              "    }\n",
              "    80% {\n",
              "      border-color: transparent;\n",
              "      border-right-color: var(--fill-color);\n",
              "      border-bottom-color: var(--fill-color);\n",
              "    }\n",
              "    90% {\n",
              "      border-color: transparent;\n",
              "      border-bottom-color: var(--fill-color);\n",
              "    }\n",
              "  }\n",
              "</style>\n",
              "\n",
              "  <script>\n",
              "    async function quickchart(key) {\n",
              "      const quickchartButtonEl =\n",
              "        document.querySelector('#' + key + ' button');\n",
              "      quickchartButtonEl.disabled = true;  // To prevent multiple clicks.\n",
              "      quickchartButtonEl.classList.add('colab-df-spinner');\n",
              "      try {\n",
              "        const charts = await google.colab.kernel.invokeFunction(\n",
              "            'suggestCharts', [key], {});\n",
              "      } catch (error) {\n",
              "        console.error('Error during call to suggestCharts:', error);\n",
              "      }\n",
              "      quickchartButtonEl.classList.remove('colab-df-spinner');\n",
              "      quickchartButtonEl.classList.add('colab-df-quickchart-complete');\n",
              "    }\n",
              "    (() => {\n",
              "      let quickchartButtonEl =\n",
              "        document.querySelector('#df-803712b7-5d70-4e7c-a820-7b1458b44998 button');\n",
              "      quickchartButtonEl.style.display =\n",
              "        google.colab.kernel.accessAllowed ? 'block' : 'none';\n",
              "    })();\n",
              "  </script>\n",
              "</div>\n",
              "\n",
              "    </div>\n",
              "  </div>\n"
            ],
            "text/plain": [
              "   customer_id  credit_score  country  gender  age  tenure    balance  \\\n",
              "0     15634602           619        1       1   42       2       0.00   \n",
              "1     15647311           608        2       1   41       1   83807.86   \n",
              "2     15619304           502        1       1   42       8  159660.80   \n",
              "3     15701354           699        1       1   39       1       0.00   \n",
              "4     15737888           850        2       1   43       2  125510.82   \n",
              "\n",
              "   products_number  credit_card  active_member  estimated_salary  churn  \n",
              "0                1            1              1         101348.88      1  \n",
              "1                1            0              1         112542.58      0  \n",
              "2                3            1              0         113931.57      1  \n",
              "3                2            0              0          93826.63      0  \n",
              "4                1            1              1          79084.10      0  "
            ]
          },
          "execution_count": 3,
          "metadata": {},
          "output_type": "execute_result"
        }
      ],
      "source": [
        "# Informa a URL de importação do dataset\n",
        "url = \"/content/Churn_Prediction_Classification.csv\"\n",
        "\n",
        "# Lê o arquivo\n",
        "dataset = pd.read_csv(url, delimiter=',')\n",
        "\n",
        "# Substituição do conteúdo das variáveis categóricas em informações numéricas\n",
        "mapping_country ={\n",
        "   'France'   : 1,\n",
        "    'Spain'   : 2,\n",
        "    'Germany' : 3\n",
        "}\n",
        "mapping_gender ={\n",
        "    'Female'  : 1,\n",
        "    'Male'    : 2\n",
        "}\n",
        "dataset[\"country\"] = dataset[\"country\"].map(mapping_country)\n",
        "dataset[\"gender\"]  = dataset[\"gender\"].map(mapping_gender)\n",
        "\n",
        "# Mostra as primeiras linhas do dataset\n",
        "dataset.head()"
      ]
    },
    {
      "cell_type": "code",
      "execution_count": null,
      "metadata": {
        "colab": {
          "base_uri": "https://localhost:8080/"
        },
        "id": "vn6cWxSmRrPi",
        "outputId": "1df82c24-716d-48f9-eaaf-58d830d8f93a"
      },
      "outputs": [
        {
          "name": "stdout",
          "output_type": "stream",
          "text": [
            "<class 'pandas.core.frame.DataFrame'>\n",
            "RangeIndex: 10000 entries, 0 to 9999\n",
            "Data columns (total 12 columns):\n",
            " #   Column            Non-Null Count  Dtype  \n",
            "---  ------            --------------  -----  \n",
            " 0   customer_id       10000 non-null  int64  \n",
            " 1   credit_score      10000 non-null  int64  \n",
            " 2   country           10000 non-null  int64  \n",
            " 3   gender            10000 non-null  int64  \n",
            " 4   age               10000 non-null  int64  \n",
            " 5   tenure            10000 non-null  int64  \n",
            " 6   balance           10000 non-null  float64\n",
            " 7   products_number   10000 non-null  int64  \n",
            " 8   credit_card       10000 non-null  int64  \n",
            " 9   active_member     10000 non-null  int64  \n",
            " 10  estimated_salary  10000 non-null  float64\n",
            " 11  churn             10000 non-null  int64  \n",
            "dtypes: float64(2), int64(10)\n",
            "memory usage: 937.6 KB\n"
          ]
        }
      ],
      "source": [
        "dataset.info()"
      ]
    },
    {
      "cell_type": "markdown",
      "metadata": {
        "id": "mE4-PIaTAfKX"
      },
      "source": [
        "## Separação em conjunto de treino e conjunto de teste com holdout"
      ]
    },
    {
      "cell_type": "code",
      "execution_count": null,
      "metadata": {
        "id": "fEiAm3LEAfPt"
      },
      "outputs": [],
      "source": [
        "test_size = 0.30 # tamanho do conjunto de teste\n",
        "seed      = 7    # semente aleatória\n",
        "\n",
        "# Não considera o campo customer_id irrelevante para análise e a varável alvo que queremos prever\n",
        "array = dataset.values\n",
        "X     = array[:,1:-1]\n",
        "\n",
        "# seleciona a variável alvo (variável que queremos prever)\n",
        "y     = array[:,-1]\n",
        "\n",
        "# Separação conjunto de treino e teste\n",
        "X_train, X_test, y_train, y_test = train_test_split(X, y,\n",
        "    test_size=test_size, shuffle=True, random_state=seed, stratify=y) # holdout com estratificação\n",
        "\n",
        "# Parâmetros e partições da validação cruzada\n",
        "scoring       = 'accuracy'\n",
        "num_particoes = 20\n",
        "kfold         = StratifiedKFold(n_splits=num_particoes, shuffle=True, random_state=seed) # validação cruzada com estratificação"
      ]
    },
    {
      "cell_type": "markdown",
      "metadata": {
        "id": "f2OGe0DtAfU4"
      },
      "source": [
        "## Modelagem e Inferência"
      ]
    },
    {
      "cell_type": "markdown",
      "metadata": {
        "id": "pwHzQpbX9QQh"
      },
      "source": [
        "### Criação e avaliação de modelos: linha base"
      ]
    },
    {
      "cell_type": "code",
      "execution_count": null,
      "metadata": {
        "colab": {
          "base_uri": "https://localhost:8080/",
          "height": 900
        },
        "id": "eAhfSnnIAfke",
        "outputId": "698f7dd9-2fff-44c2-cf11-07556dad40ca"
      },
      "outputs": [
        {
          "name": "stdout",
          "output_type": "stream",
          "text": [
            "LR: 0.790571 (0.009350)\n",
            "KNN: 0.760000 (0.013522)\n",
            "CART: 0.794143 (0.017273)\n",
            "NB: 0.787714 (0.011990)\n",
            "SVM: 0.796286 (0.001309)\n",
            "Bagging: 0.859000 (0.016445)\n",
            "RF: 0.858714 (0.015766)\n",
            "ET: 0.854714 (0.016691)\n",
            "Ada: 0.852000 (0.018219)\n",
            "GB: 0.861857 (0.016017)\n",
            "Voting: 0.800714 (0.006933)\n"
          ]
        },
        {
          "data": {
            "image/png": "[encoded data removed]",
            "text/plain": [
              "<Figure size 1500x1000 with 1 Axes>"
            ]
          },
          "metadata": {},
          "output_type": "display_data"
        }
      ],
      "source": [
        "# definindo uma semente global\n",
        "np.random.seed(7)\n",
        "\n",
        "# Lista que armazenará os modelos\n",
        "models = []\n",
        "\n",
        "# Criando os modelos e adicionando-os na lista de modelos\n",
        "models.append(('LR', LogisticRegression(max_iter=200)))\n",
        "models.append(('KNN', KNeighborsClassifier()))\n",
        "models.append(('CART', DecisionTreeClassifier()))\n",
        "models.append(('NB', GaussianNB()))\n",
        "models.append(('SVM', SVC()))\n",
        "\n",
        "# Definindo os parâmetros do classificador base para o BaggingClassifier\n",
        "base         = DecisionTreeClassifier()\n",
        "num_trees    = 100\n",
        "max_features = 3\n",
        "\n",
        "# Criando os modelos para o VotingClassifier\n",
        "bases       = []\n",
        "model1      = LogisticRegression(max_iter=200)\n",
        "bases.append(('logistic', model1))\n",
        "model2      = DecisionTreeClassifier()\n",
        "bases.append(('cart', model2))\n",
        "model3      = SVC()\n",
        "bases.append(('svm', model3))\n",
        "\n",
        "# Criando os ensembles e adicionando-os na lista de modelos\n",
        "models.append(('Bagging', BaggingClassifier(estimator=base, n_estimators=num_trees)))\n",
        "models.append(('RF', RandomForestClassifier(n_estimators=num_trees, max_features=max_features)))\n",
        "models.append(('ET', ExtraTreesClassifier(n_estimators=num_trees, max_features=max_features)))\n",
        "models.append(('Ada', AdaBoostClassifier(n_estimators=num_trees)))\n",
        "models.append(('GB', GradientBoostingClassifier(n_estimators=num_trees)))\n",
        "models.append(('Voting', VotingClassifier(bases)))\n",
        "\n",
        "# Listas para armazenar os resultados\n",
        "results = []\n",
        "names   = []\n",
        "\n",
        "# Avaliação dos modelos (treinamento)\n",
        "for name, model in models:\n",
        "    cv_results = cross_val_score(model, X_train, y_train, cv=kfold, scoring=scoring)\n",
        "    results.append(cv_results)\n",
        "    names.append(name)\n",
        "    msg = \"%s: %f (%f)\" % (name, cv_results.mean(), cv_results.std())\n",
        "    print(msg)\n",
        "\n",
        "# Boxplot de comparação dos modelos\n",
        "fig = plt.figure(figsize=(15,10))\n",
        "fig.suptitle('Comparação dos Modelos')\n",
        "ax = fig.add_subplot(111)\n",
        "plt.boxplot(results)\n",
        "ax.set_xticklabels(names)\n",
        "plt.show()"
      ]
    },
    {
      "cell_type": "markdown",
      "metadata": {
        "id": "olo7SPk2BvvW"
      },
      "source": [
        "### Criação e avaliação de modelos: dados padronizados e normalizados"
      ]
    },
    {
      "cell_type": "code",
      "execution_count": null,
      "metadata": {
        "colab": {
          "base_uri": "https://localhost:8080/",
          "height": 881
        },
        "id": "hmQbiYQdBRDW",
        "outputId": "48a28f90-77ea-4ff0-bc58-914af2fdd65a"
      },
      "outputs": [
        {
          "name": "stdout",
          "output_type": "stream",
          "text": [
            "LR-orig: 0.791 (0.009)\n",
            "KNN-orig: 0.760 (0.014)\n",
            "CART-orig: 0.794 (0.017)\n",
            "NB-orig: 0.788 (0.012)\n",
            "SVM-orig: 0.796 (0.001)\n",
            "Bag-orig: 0.859 (0.016)\n",
            "RF-orig: 0.859 (0.016)\n",
            "ET-orig: 0.855 (0.017)\n",
            "Ada-orig: 0.852 (0.018)\n",
            "GB-orig: 0.862 (0.016)\n",
            "Vot-orig: 0.801 (0.007)\n",
            "LR-padr: 0.810 (0.015)\n",
            "KNN-padr: 0.830 (0.017)\n",
            "CART-padr: 0.794 (0.020)\n",
            "NB-padr: 0.828 (0.012)\n",
            "SVM-padr: 0.853 (0.016)\n",
            "Bag-padr: 0.856 (0.018)\n",
            "RF-padr: 0.859 (0.017)\n",
            "ET-padr: 0.857 (0.015)\n",
            "Ada-padr: 0.852 (0.018)\n",
            "GB-padr: 0.862 (0.017)\n",
            "Vot-padr: 0.848 (0.014)\n",
            "LR-norm: 0.811 (0.014)\n",
            "KNN-norm: 0.815 (0.017)\n",
            "CART-norm: 0.794 (0.020)\n",
            "NB-norm: 0.828 (0.012)\n",
            "SVM-norm: 0.844 (0.012)\n",
            "Bag-norm: 0.859 (0.015)\n",
            "RF-norm: 0.860 (0.017)\n",
            "ET-norm: 0.857 (0.015)\n",
            "Ada-norm: 0.852 (0.018)\n",
            "GB-norm: 0.862 (0.016)\n",
            "Vot-norm: 0.841 (0.012)\n"
          ]
        },
        {
          "data": {
            "image/png": "[encoded data removed]",
            "text/plain": [
              "<Figure size 2500x600 with 1 Axes>"
            ]
          },
          "metadata": {},
          "output_type": "display_data"
        }
      ],
      "source": [
        "# definindo uma semente global para este bloco\n",
        "np.random.seed(7)\n",
        "\n",
        "# Listas para armazenar os armazenar os pipelines e os resultados para todas as visões do dataset\n",
        "pipelines = []\n",
        "results   = []\n",
        "names     = []\n",
        "\n",
        "# Criando os elementos do pipeline\n",
        "\n",
        "# Algoritmos que serão utilizados\n",
        "reg_log           = ('LR', LogisticRegression(max_iter=200))\n",
        "knn               = ('KNN', KNeighborsClassifier())\n",
        "cart              = ('CART', DecisionTreeClassifier())\n",
        "naive_bayes       = ('NB', GaussianNB())\n",
        "svm               = ('SVM', SVC())\n",
        "bagging           = ('Bag', BaggingClassifier(estimator=base, n_estimators=num_trees))\n",
        "random_forest     = ('RF', RandomForestClassifier(n_estimators=num_trees, max_features=max_features))\n",
        "extra_trees       = ('ET', ExtraTreesClassifier(n_estimators=num_trees, max_features=max_features))\n",
        "adaboost          = ('Ada', AdaBoostClassifier(n_estimators=num_trees))\n",
        "gradient_boosting = ('GB', GradientBoostingClassifier(n_estimators=num_trees))\n",
        "voting            = ('Voting', VotingClassifier(bases))\n",
        "\n",
        "# Transformações que serão utilizadas\n",
        "standard_scaler   = ('StandardScaler', StandardScaler())\n",
        "min_max_scaler    = ('MinMaxScaler', MinMaxScaler())\n",
        "\n",
        "# Montando os pipelines\n",
        "# A ordem de execução é da esquerda para a direita.\n",
        "\n",
        "# Dataset original\n",
        "pipelines.append(('LR-orig', Pipeline([reg_log])))\n",
        "pipelines.append(('KNN-orig', Pipeline([knn])))\n",
        "pipelines.append(('CART-orig', Pipeline([cart])))\n",
        "pipelines.append(('NB-orig', Pipeline([naive_bayes])))\n",
        "pipelines.append(('SVM-orig', Pipeline([svm])))\n",
        "pipelines.append(('Bag-orig', Pipeline([bagging])))\n",
        "pipelines.append(('RF-orig', Pipeline([random_forest])))\n",
        "pipelines.append(('ET-orig', Pipeline([extra_trees])))\n",
        "pipelines.append(('Ada-orig', Pipeline([adaboost])))\n",
        "pipelines.append(('GB-orig', Pipeline([gradient_boosting])))\n",
        "pipelines.append(('Vot-orig', Pipeline([voting])))\n",
        "\n",
        "# Dataset Padronizado\n",
        "pipelines.append(('LR-padr', Pipeline([standard_scaler, reg_log])))\n",
        "pipelines.append(('KNN-padr', Pipeline([standard_scaler, knn])))\n",
        "pipelines.append(('CART-padr', Pipeline([standard_scaler, cart])))\n",
        "pipelines.append(('NB-padr', Pipeline([standard_scaler, naive_bayes])))\n",
        "pipelines.append(('SVM-padr', Pipeline([standard_scaler, svm])))\n",
        "pipelines.append(('Bag-padr', Pipeline([standard_scaler, bagging])))\n",
        "pipelines.append(('RF-padr', Pipeline([standard_scaler, random_forest])))\n",
        "pipelines.append(('ET-padr', Pipeline([standard_scaler, extra_trees])))\n",
        "pipelines.append(('Ada-padr', Pipeline([standard_scaler, adaboost])))\n",
        "pipelines.append(('GB-padr', Pipeline([standard_scaler, gradient_boosting])))\n",
        "pipelines.append(('Vot-padr', Pipeline([standard_scaler, voting])))\n",
        "\n",
        "# Dataset Normalizado\n",
        "pipelines.append(('LR-norm', Pipeline([min_max_scaler, reg_log])))\n",
        "pipelines.append(('KNN-norm', Pipeline([min_max_scaler, knn])))\n",
        "pipelines.append(('CART-norm', Pipeline([min_max_scaler, cart])))\n",
        "pipelines.append(('NB-norm', Pipeline([min_max_scaler, naive_bayes])))\n",
        "pipelines.append(('SVM-norm', Pipeline([min_max_scaler, svm])))\n",
        "pipelines.append(('Bag-norm', Pipeline([min_max_scaler, bagging])))\n",
        "pipelines.append(('RF-norm', Pipeline([min_max_scaler, random_forest])))\n",
        "pipelines.append(('ET-norm', Pipeline([min_max_scaler, extra_trees])))\n",
        "pipelines.append(('Ada-norm', Pipeline([min_max_scaler, adaboost])))\n",
        "pipelines.append(('GB-norm', Pipeline([min_max_scaler, gradient_boosting])))\n",
        "pipelines.append(('Vot-norm', Pipeline([min_max_scaler, voting])))\n",
        "\n",
        "# Executando os pipelines\n",
        "for name, model in pipelines:\n",
        "    cv_results = cross_val_score(model, X_train, y_train, cv=kfold, scoring=scoring)\n",
        "    results.append(cv_results)\n",
        "    names.append(name)\n",
        "    msg = \"%s: %.3f (%.3f)\" % (name, cv_results.mean(), cv_results.std()) # formatando para 3 casas decimais\n",
        "    print(msg)\n",
        "\n",
        "# Boxplot de comparação dos modelos\n",
        "fig = plt.figure(figsize=(25,6))\n",
        "fig.suptitle('Comparação dos Modelos - Dataset orginal, padronizado e normalizado')\n",
        "ax  = fig.add_subplot(111)\n",
        "plt.boxplot(results)\n",
        "ax.set_xticklabels(names, rotation=90)\n",
        "plt.show()"
      ]
    },
    {
      "cell_type": "markdown",
      "metadata": {
        "id": "f-f2vCU5CMmp"
      },
      "source": [
        "### Otimização dos hiperparâmetros Grid Search\n",
        "\n",
        "A otimização de hiperparâmetros é o processo de encontrar os valores ideais para os hiperparâmetros de um modelo de machine learning. O objetivo é encontrar a combinação de hiperparâmetros que resulta no melhor desempenho do modelo.\n"
      ]
    },
    {
      "cell_type": "code",
      "execution_count": null,
      "metadata": {
        "colab": {
          "background_save": true
        },
        "id": "QG4d0feSRrPo"
      },
      "outputs": [],
      "source": [
        "# Definindo uma semente global para este bloco\n",
        "np.random.seed(7)\n",
        "\n",
        "# Lista de modelos\n",
        "models = []\n",
        "\n",
        "# Criando os modelos e adicionando-os na lista de modelos\n",
        "models.append(('LR', LogisticRegression(max_iter=200)))\n",
        "models.append(('KNN', KNeighborsClassifier()))\n",
        "models.append(('CART', DecisionTreeClassifier()))\n",
        "models.append(('NB', GaussianNB()))\n",
        "models.append(('SVM', SVC()))\n",
        "\n",
        "# Definindo os parâmetros do classificador base para o BaggingClassifier\n",
        "base = DecisionTreeClassifier()\n",
        "num_trees = 100\n",
        "max_features = 3\n",
        "\n",
        "# Criando os modelos para o VotingClassifier\n",
        "bases = []\n",
        "model1 = LogisticRegression(max_iter=200)\n",
        "bases.append(('logistic', model1))\n",
        "model2 = DecisionTreeClassifier()\n",
        "bases.append(('cart', model2))\n",
        "model3 = SVC()\n",
        "bases.append(('svm', model3))\n",
        "\n",
        "# Criando os ensembles e adicionando-os na lista de modelos\n",
        "models.append(('Bagging', BaggingClassifier(estimator=base, n_estimators=num_trees)))\n",
        "models.append(('RF', RandomForestClassifier(n_estimators=num_trees, max_features=max_features)))\n",
        "models.append(('ET', ExtraTreesClassifier(n_estimators=num_trees, max_features=max_features)))\n",
        "models.append(('Ada', AdaBoostClassifier(n_estimators=num_trees)))\n",
        "models.append(('GB', GradientBoostingClassifier(n_estimators=num_trees)))\n",
        "models.append(('Voting', VotingClassifier(estimators=bases, voting='hard')))\n",
        "\n",
        "# Definindo os componentes do pipeline\n",
        "standard_scaler = ('StandardScaler', StandardScaler())\n",
        "min_max_scaler  = ('MinMaxScaler', MinMaxScaler())\n",
        "\n",
        "# Lista de pipelines\n",
        "pipelines = []\n",
        "\n",
        "# Criando pipelines para cada modelo\n",
        "for name, model in models:\n",
        "    pipelines.append((name + '-orig', Pipeline(steps=[(name, model)])))\n",
        "    pipelines.append((name + '-padr', Pipeline(steps=[standard_scaler, (name, model)])))\n",
        "    pipelines.append((name + '-norm', Pipeline(steps=[min_max_scaler, (name, model)])))\n",
        "\n",
        "# Definindo os parâmetros para GridSearchCV\n",
        "param_grids = {\n",
        "    'LR': {\n",
        "        'LR__C': [0.01, 0.1, 1, 10, 100],\n",
        "        'LR__solver': ['liblinear', 'saga']\n",
        "    },\n",
        "    'KNN': {\n",
        "        'KNN__n_neighbors': [1, 3, 5, 7, 9, 11, 13, 15, 17, 19],\n",
        "        'KNN__metric': [\"euclidean\", \"manhattan\", \"minkowski\"]\n",
        "    },\n",
        "    'CART': {\n",
        "        'CART__max_depth': [None, 10, 20, 30, 40, 50],\n",
        "        'CART__min_samples_split': [2, 5, 10],\n",
        "        'CART__min_samples_leaf': [1, 2, 4]\n",
        "    },\n",
        "    'NB': {\n",
        "        'NB__var_smoothing': [1e-9, 1e-8, 1e-7, 1e-6, 1e-5]\n",
        "    },\n",
        "    'SVM': {\n",
        "        'SVM__C': [0.1, 1, 10, 100],\n",
        "        'SVM__gamma': [1, 0.1, 0.01, 0.001],\n",
        "        'SVM__kernel': ['rbf']\n",
        "    },\n",
        "    'RF': {\n",
        "        'RF__n_estimators': [10, 50, 100, 200],\n",
        "        'RF__max_features': ['auto', 'sqrt', 'log2'],\n",
        "        'RF__max_depth': [None, 10, 20, 30],\n",
        "        'RF__min_samples_split': [2, 5, 10],\n",
        "        'RF__min_samples_leaf': [1, 2, 4]\n",
        "    },\n",
        "    'ET': {\n",
        "        'ET__n_estimators': [10, 50, 100, 200],\n",
        "        'ET__max_features': ['auto', 'sqrt', 'log2'],\n",
        "        'ET__max_depth': [None, 10, 20, 30],\n",
        "        'ET__min_samples_split': [2, 5, 10],\n",
        "        'ET__min_samples_leaf': [1, 2, 4]\n",
        "    },\n",
        "    'Ada': {\n",
        "        'Ada__n_estimators': [10, 50, 100, 200],\n",
        "        'Ada__learning_rate': [0.01, 0.1, 1, 10]\n",
        "    },\n",
        "    'GB': {\n",
        "        'GB__n_estimators': [10, 50, 100, 200],\n",
        "        'GB__learning_rate': [0.01, 0.1, 0.2, 0.3],\n",
        "        'GB__max_depth': [3, 5, 7, 9]\n",
        "    },\n",
        "    'Voting': {\n",
        "        # Para VotingClassifier, geralmente não há hiperparâmetros para ajustar diretamente\n",
        "        # Ajustar os hiperparâmetros dos estimadores base individualmente se necessário\n",
        "    }\n",
        "}\n",
        "\n",
        "# Parâmetros de cross-validation e scoring\n",
        "scoring = 'accuracy'\n",
        "kfold   = 5\n",
        "\n",
        "# Devido ao grande tempo de resposta para o resultado da validação será gerado umm arquivo de saida\n",
        "# com as informações da melhor configuração do modelo.\n",
        "f = open('saida_modelo.txt','at')\n",
        "\n",
        "# Executando o GridSearchCV para cada pipeline\n",
        "for name, pipeline in pipelines:\n",
        "    model_type = name.split('-')[0]\n",
        "    if model_type in param_grids:\n",
        "        param_grid = param_grids[model_type]\n",
        "    else:\n",
        "        param_grid = {}  # Para modelos que não têm parâmetros definidos\n",
        "\n",
        "    grid = GridSearchCV(estimator=pipeline, verbose=3, param_grid=param_grid, scoring=scoring, cv=kfold)\n",
        "    grid.fit(X_train, y_train)\n",
        "    # Imprimindo a melhor configuração\n",
        "    #print(\"Modelo: %s - Melhor: %f usando %s\" % (name, grid.best_score_, grid.best_params_))\n",
        "    # Gravando no arquivo a melhor configuração\n",
        "    saida = \"Modelo: %s - Valor: %f usando %s\" % (name, grid.best_score_, grid.best_params_)\n",
        "    f.write(f'{saida}\\n')\n",
        "\n",
        "# Fecha arquivo de saido da melhor configuração do modelo\n",
        "f.close()"
      ]
    },
    {
      "cell_type": "code",
      "execution_count": null,
      "metadata": {
        "id": "Fqf8MHCVd5-d"
      },
      "outputs": [],
      "source": [
        "#########################################################################################\n",
        "# Dataset Churn : Avalicação do melhor modelo\n",
        "#########################################################################################\n",
        "# Modelo: LR-orig       - Valor: 0.796286 usando {'LR__C': 0.01, 'LR__solver': 'saga'}\n",
        "# Modelo: LR-padr       - Valor: 0.811429 usando {'LR__C': 0.1, 'LR__solver': 'liblinear'}\n",
        "# Modelo: LR-norm       - Valor: 0.811143 usando {'LR__C': 10, 'LR__solver': 'saga'}\n",
        "# Modelo: KNN-orig      - Valor: 0.792143 usando {'KNN__metric': 'euclidean', 'KNN__n_neighbors': 15}\n",
        "# Modelo: KNN-padr      - Valor: 0.836571 usando {'KNN__metric': 'euclidean', 'KNN__n_neighbors': 9}\n",
        "# Modelo: KNN-norm      - Valor: 0.818286 usando {'KNN__metric': 'manhattan', 'KNN__n_neighbors': 13}\n",
        "# Modelo: CART-orig     - Valor: 0.838286 usando {'CART__max_depth': 10, 'CART__min_samples_leaf': 2, 'CART__min_samples_split': 10}\n",
        "# Modelo: CART-padr     - Valor: 0.838286 usando {'CART__max_depth': 10, 'CART__min_samples_leaf': 1, 'CART__min_samples_split': 10}\n",
        "# Modelo: CART-norm     - Valor: 0.837571 usando {'CART__max_depth': 10, 'CART__min_samples_leaf': 1, 'CART__min_samples_split': 10}\n",
        "# Modelo: NB-orig       - Valor: 0.796286 usando {'NB__var_smoothing': 1e-07}\n",
        "# Modelo: NB-padr       - Valor: 0.828714 usando {'NB__var_smoothing': 1e-09}\n",
        "# Modelo: NB-norm       - Valor: 0.828714 usando {'NB__var_smoothing': 1e-09}\n",
        "# Modelo: SVM-orig      - Valor: 0.796286 usando {'SVM__C': 0.1, 'SVM__gamma': 1, 'SVM__kernel': 'rbf'}\n",
        "# Modelo: SVM-padr      - Valor: 0.854857 usando {'SVM__C': 100, 'SVM__gamma': 0.01, 'SVM__kernel': 'rbf'}\n",
        "# Modelo: SVM-norm      - Valor: 0.856857 usando {'SVM__C': 100, 'SVM__gamma': 0.1, 'SVM__kernel': 'rbf'}\n",
        "# Modelo: Bagging-orig  - Valor: 0.856286 usando {}\n",
        "# Modelo: Bagging-padr  - Valor: 0.853714 usando {}\n",
        "# Modelo: Bagging-norm  - Valor: 0.856143 usando {}\n",
        "# Modelo: RF-orig       - Valor: 0.864143 usando {'RF__max_depth': None, 'RF__max_features': 'sqrt', 'RF__min_samples_leaf': 1, 'RF__min_samples_split': 10, 'RF__n_estimators': 100}\n",
        "# Modelo: RF-padr       - Valor: 0.863857 usando {'RF__max_depth': 30, 'RF__max_features': 'log2', 'RF__min_samples_leaf': 4, 'RF__min_samples_split': 2, 'RF__n_estimators': 50}\n",
        "# Modelo: RF-norm       - Valor: 0.864000 usando {'RF__max_depth': 30, 'RF__max_features': 'log2', 'RF__min_samples_leaf': 2, 'RF__min_samples_split': 5, 'RF__n_estimators': 50}\n",
        "# Modelo: ET-orig       - Valor: 0.860429 usando {'ET__max_depth': None, 'ET__max_features': 'sqrt', 'ET__min_samples_leaf': 1, 'ET__min_samples_split': 10, 'ET__n_estimators': 50}\n",
        "# Modelo: ET-padr       - Valor: 0.860000 usando {'ET__max_depth': 30, 'ET__max_features': 'sqrt', 'ET__min_samples_leaf': 1, 'ET__min_samples_split': 10, 'ET__n_estimators': 100}\n",
        "# Modelo: ET-norm       - Valor: 0.861286 usando {'ET__max_depth': None, 'ET__max_features': 'sqrt', 'ET__min_samples_leaf': 1, 'ET__min_samples_split': 10, 'ET__n_estimators': 50}\n",
        "# Modelo: Ada-orig      - Valor: 0.857000 usando {'Ada__learning_rate': 0.1, 'Ada__n_estimators': 200}\n",
        "# Modelo: Ada-padr      - Valor: 0.857000 usando {'Ada__learning_rate': 0.1, 'Ada__n_estimators': 200}\n",
        "# Modelo: Ada-norm      - Valor: 0.857000 usando {'Ada__learning_rate': 0.1, 'Ada__n_estimators': 200}\n",
        "# Modelo: GB-orig       - Valor: 0.864000 usando {'GB__learning_rate': 0.1, 'GB__max_depth': 3, 'GB__n_estimators': 200}\n",
        "# Modelo: GB-padr       - Valor: 0.864143 usando {'GB__learning_rate': 0.1, 'GB__max_depth': 3, 'GB__n_estimators': 200}\n",
        "# Modelo: GB-norm       - Valor: 0.864286 usando {'GB__learning_rate': 0.1, 'GB__max_depth': 3, 'GB__n_estimators': 200}\n",
        "# Modelo: Voting-orig   - Valor: 0.800857 usando {}\n",
        "# Modelo: Voting-padr   - Valor: 0.849286 usando {}\n",
        "# Modelo: Voting-norm   - Valor: 0.837714 usando {}"
      ]
    },
    {
      "cell_type": "markdown",
      "metadata": {
        "id": "cuUpaYcwDRDt"
      },
      "source": [
        "## Finalização do Modelo"
      ]
    },
    {
      "cell_type": "code",
      "execution_count": null,
      "metadata": {
        "colab": {
          "base_uri": "https://localhost:8080/"
        },
        "id": "lbrFxAbSDVIj",
        "outputId": "f750b2c8-6001-4329-ea1d-bfaae94c3fe3"
      },
      "outputs": [
        {
          "name": "stdout",
          "output_type": "stream",
          "text": [
            "1º Melhor modelo : GB-norm - Melhor: 0.8663333333333333\n",
            "Modelo utilizado teste de unidade : KNN-padr : 0.8153333333333334\n"
          ]
        }
      ],
      "source": [
        "############################################################################################################\n",
        "# Avaliação do modelo com o conjunto de testes\n",
        "#\n",
        "# 1º Melhor modelo na avaliação       : GB-norm - Melhor: 0.864286 usando {'GB__learning_rate': 0.1,\n",
        "#                                                                          'GB__max_depth': 3,\n",
        "#                                                                          'GB__n_estimators': 200}\n",
        "#\n",
        "# 2º Modelo utilizado teste de unidade: KNN-padr usando {'KNN__metric': 'euclidean', 'KNN__n_neighbors': 9}\n",
        "#\n",
        "############################################################################################################\n",
        "\n",
        "# Definindo semente global do bloco\n",
        "np.random.seed(7)\n",
        "\n",
        "# Ajuste do scaler com o conjunto de treino\n",
        "scaler    = MinMaxScaler().fit(X_train)\n",
        "\n",
        "# aplicação da normalização no conjunto de treino\n",
        "rescaledX = scaler.transform(X_train)\n",
        "\n",
        "########################################################################\n",
        "# Preparação do modelo 1º Melhor modelo : GB-norm ( Gradient Boosting )\n",
        "########################################################################\n",
        "\n",
        "model = GradientBoostingClassifier(n_estimators=200, learning_rate=0.1, max_depth=3 )\n",
        "model.fit(rescaledX, y_train)\n",
        "\n",
        "# Estimativa da acurácia no conjunto de teste do Melhor modelo : GB-norm\n",
        "rescaledTestX = scaler.transform(X_test) # aplicação da normalização no conjunto de teste\n",
        "predictions = model.predict(rescaledTestX)\n",
        "print(f\"1º Melhor modelo : GB-norm - Melhor: {accuracy_score(y_test, predictions)}\")\n",
        "\n",
        "########################################################################\n",
        "# Preparação do modelo utilizado teste de unidade : KNN-padr\n",
        "########################################################################\n",
        "\n",
        "model = KNeighborsClassifier(metric='euclidean', n_neighbors=9)\n",
        "model.fit(rescaledX, y_train)\n",
        "\n",
        "# Estimativa da acurácia no conjunto de teste 2º Melhor modelo : RF-orig\n",
        "rescaledTestX = scaler.transform(X_test) # aplicação da padronização no conjunto de teste\n",
        "predictions = model.predict(rescaledTestX)\n",
        "print(f\"Modelo utilizado teste de unidade : KNN-padr : {accuracy_score(y_test, predictions)}\")\n"
      ]
    },
    {
      "cell_type": "markdown",
      "metadata": {
        "id": "SLtMSHwoRrPr"
      },
      "source": [
        "Rodando o melhor modelo da avaliação (GradientBoostingClassifier) a partir de um pipeline com os hiperparâmetros otimizados."
      ]
    },
    {
      "cell_type": "code",
      "execution_count": null,
      "metadata": {
        "colab": {
          "base_uri": "https://localhost:8080/"
        },
        "id": "PS5ki-cSRrPr",
        "outputId": "89bff4e0-34bb-410f-8af7-bbfdd5b6b2f9"
      },
      "outputs": [
        {
          "name": "stdout",
          "output_type": "stream",
          "text": [
            "0.8663333333333333\n"
          ]
        }
      ],
      "source": [
        "# Define semente global do bloco\n",
        "np.random.seed(7)\n",
        "\n",
        "model = GradientBoostingClassifier(n_estimators=200, learning_rate=0.1, max_depth=3 )\n",
        "\n",
        "# Prepara pipeline do melhor modelo\n",
        "pipeline = Pipeline(steps=[('MinMaxScaler', MinMaxScaler()), ('GB', model)])\n",
        "pipeline.fit(X_train, y_train)\n",
        "predictions = pipeline.predict(X_test)\n",
        "\n",
        "print(accuracy_score(y_test, predictions))"
      ]
    },
    {
      "cell_type": "markdown",
      "metadata": {
        "id": "ppOBe5GRRrPr"
      },
      "source": [
        "## Salvando os arquivos do melhor modelo avaliado (GradientBoostingClassifier)"
      ]
    },
    {
      "cell_type": "code",
      "execution_count": null,
      "metadata": {
        "collapsed": true,
        "id": "xOam_bBGRrPs"
      },
      "outputs": [],
      "source": [
        "# Salvando o modelo\n",
        "model_filename = 'gb_Churn_Classifier.pkl'\n",
        "with open(model_filename, 'wb') as file:\n",
        "    pickle.dump(model, file)\n",
        "\n",
        "# Salvando o scaler\n",
        "scaler_filename = 'minmax_scaler_Churn.pkl'\n",
        "with open(scaler_filename, 'wb') as file:\n",
        "    pickle.dump(scaler, file)\n",
        "\n",
        "# Salvando o pipeline\n",
        "pipeline_filename = 'gb_Churn_pipeline.pkl'\n",
        "with open(pipeline_filename, 'wb') as file:\n",
        "    pickle.dump(pipeline, file)\n",
        "\n",
        "# Salvando X_test e y_test\n",
        "X_test_df = pd.DataFrame(X_test, columns=dataset.columns[1:-1]) # desconsidera campo customer_id do dataframe\n",
        "y_test_df = pd.DataFrame(y_test, columns=[dataset.columns[-1]])\n",
        "X_test_df.to_csv(\"X_test_dataset_Churn.csv\", index=False)\n",
        "y_test_df.to_csv(\"y_test_dataset_Churn.csv\", index=False)"
      ]
    },
    {
      "cell_type": "markdown",
      "metadata": {
        "id": "xZ-FQWZj_OtQ"
      },
      "source": [
        "## Simulando a aplicação do melhor modelo avaliado em dados não vistos"
      ]
    },
    {
      "cell_type": "code",
      "execution_count": null,
      "metadata": {
        "colab": {
          "base_uri": "https://localhost:8080/",
          "height": 75
        },
        "id": "iGeQHmeg4ziu",
        "outputId": "0b363be0-d09b-46d5-c5fe-364ddc4f8895"
      },
      "outputs": [
        {
          "data": {
            "text/html": [
              "<style>#sk-container-id-3 {color: black;}#sk-container-id-3 pre{padding: 0;}#sk-container-id-3 div.sk-toggleable {background-color: white;}#sk-container-id-3 label.sk-toggleable__label {cursor: pointer;display: block;width: 100%;margin-bottom: 0;padding: 0.3em;box-sizing: border-box;text-align: center;}#sk-container-id-3 label.sk-toggleable__label-arrow:before {content: \"▸\";float: left;margin-right: 0.25em;color: #696969;}#sk-container-id-3 label.sk-toggleable__label-arrow:hover:before {color: black;}#sk-container-id-3 div.sk-estimator:hover label.sk-toggleable__label-arrow:before {color: black;}#sk-container-id-3 div.sk-toggleable__content {max-height: 0;max-width: 0;overflow: hidden;text-align: left;background-color: #f0f8ff;}#sk-container-id-3 div.sk-toggleable__content pre {margin: 0.2em;color: black;border-radius: 0.25em;background-color: #f0f8ff;}#sk-container-id-3 input.sk-toggleable__control:checked~div.sk-toggleable__content {max-height: 200px;max-width: 100%;overflow: auto;}#sk-container-id-3 input.sk-toggleable__control:checked~label.sk-toggleable__label-arrow:before {content: \"▾\";}#sk-container-id-3 div.sk-estimator input.sk-toggleable__control:checked~label.sk-toggleable__label {background-color: #d4ebff;}#sk-container-id-3 div.sk-label input.sk-toggleable__control:checked~label.sk-toggleable__label {background-color: #d4ebff;}#sk-container-id-3 input.sk-hidden--visually {border: 0;clip: rect(1px 1px 1px 1px);clip: rect(1px, 1px, 1px, 1px);height: 1px;margin: -1px;overflow: hidden;padding: 0;position: absolute;width: 1px;}#sk-container-id-3 div.sk-estimator {font-family: monospace;background-color: #f0f8ff;border: 1px dotted black;border-radius: 0.25em;box-sizing: border-box;margin-bottom: 0.5em;}#sk-container-id-3 div.sk-estimator:hover {background-color: #d4ebff;}#sk-container-id-3 div.sk-parallel-item::after {content: \"\";width: 100%;border-bottom: 1px solid gray;flex-grow: 1;}#sk-container-id-3 div.sk-label:hover label.sk-toggleable__label {background-color: #d4ebff;}#sk-container-id-3 div.sk-serial::before {content: \"\";position: absolute;border-left: 1px solid gray;box-sizing: border-box;top: 0;bottom: 0;left: 50%;z-index: 0;}#sk-container-id-3 div.sk-serial {display: flex;flex-direction: column;align-items: center;background-color: white;padding-right: 0.2em;padding-left: 0.2em;position: relative;}#sk-container-id-3 div.sk-item {position: relative;z-index: 1;}#sk-container-id-3 div.sk-parallel {display: flex;align-items: stretch;justify-content: center;background-color: white;position: relative;}#sk-container-id-3 div.sk-item::before, #sk-container-id-3 div.sk-parallel-item::before {content: \"\";position: absolute;border-left: 1px solid gray;box-sizing: border-box;top: 0;bottom: 0;left: 50%;z-index: -1;}#sk-container-id-3 div.sk-parallel-item {display: flex;flex-direction: column;z-index: 1;position: relative;background-color: white;}#sk-container-id-3 div.sk-parallel-item:first-child::after {align-self: flex-end;width: 50%;}#sk-container-id-3 div.sk-parallel-item:last-child::after {align-self: flex-start;width: 50%;}#sk-container-id-3 div.sk-parallel-item:only-child::after {width: 0;}#sk-container-id-3 div.sk-dashed-wrapped {border: 1px dashed gray;margin: 0 0.4em 0.5em 0.4em;box-sizing: border-box;padding-bottom: 0.4em;background-color: white;}#sk-container-id-3 div.sk-label label {font-family: monospace;font-weight: bold;display: inline-block;line-height: 1.2em;}#sk-container-id-3 div.sk-label-container {text-align: center;}#sk-container-id-3 div.sk-container {/* jupyter's `normalize.less` sets `[hidden] { display: none; }` but bootstrap.min.css set `[hidden] { display: none !important; }` so we also need the `!important` here to be able to override the default hidden behavior on the sphinx rendered scikit-learn.org. See: https://github.com/scikit-learn/scikit-learn/issues/21755 */display: inline-block !important;position: relative;}#sk-container-id-3 div.sk-text-repr-fallback {display: none;}</style><div id=\"sk-container-id-3\" class=\"sk-top-container\"><div class=\"sk-text-repr-fallback\"><pre>GradientBoostingClassifier(n_estimators=200)</pre><b>In a Jupyter environment, please rerun this cell to show the HTML representation or trust the notebook. <br />On GitHub, the HTML representation is unable to render, please try loading this page with nbviewer.org.</b></div><div class=\"sk-container\" hidden><div class=\"sk-item\"><div class=\"sk-estimator sk-toggleable\"><input class=\"sk-toggleable__control sk-hidden--visually\" id=\"sk-estimator-id-3\" type=\"checkbox\" checked><label for=\"sk-estimator-id-3\" class=\"sk-toggleable__label sk-toggleable__label-arrow\">GradientBoostingClassifier</label><div class=\"sk-toggleable__content\"><pre>GradientBoostingClassifier(n_estimators=200)</pre></div></div></div></div></div>"
            ],
            "text/plain": [
              "GradientBoostingClassifier(n_estimators=200)"
            ]
          },
          "execution_count": 50,
          "metadata": {},
          "output_type": "execute_result"
        }
      ],
      "source": [
        "# Preparação do modelo com TODO o dataset\n",
        "scaler = MinMaxScaler().fit(X) # ajuste do scaler com TODO o dataset\n",
        "rescaledX = scaler.transform(X) # aplicação da normalização com TODO o dataset\n",
        "model.fit(rescaledX, y)"
      ]
    },
    {
      "cell_type": "code",
      "execution_count": null,
      "metadata": {
        "colab": {
          "base_uri": "https://localhost:8080/"
        },
        "id": "JAIp6d9w5QG8",
        "outputId": "79354696-2fd4-4f15-aba9-33c423082564"
      },
      "outputs": [
        {
          "name": "stdout",
          "output_type": "stream",
          "text": [
            "[[ 0.538       0.          0.          0.32432432  0.2         0.\n",
            "   0.          1.          1.          0.50673049]\n",
            " [ 0.516       0.5         0.          0.31081081  0.1        33.40314787\n",
            "   0.          0.          1.          0.56270874]]\n"
          ]
        }
      ],
      "source": [
        "# Novos dados - não sabemos a classe!\n",
        "data = {'credit_score':  [619, 608],\n",
        "        'country': [1, 2],\n",
        "        'gender': [1, 1],\n",
        "        'age': [42, 41],\n",
        "        'tenure': [2, 1],\n",
        "        'balance': [0.0, 8380786.0],\n",
        "        'products_number': [1, 1],\n",
        "        'credit_card': [1, 0],\n",
        "        'active_member': [1, 1],\n",
        "        'estimated_salary': [101348.00, 112542.58],\n",
        "        }\n",
        "\n",
        "atributos = ['credit_score', 'country', 'gender', 'age', 'tenure', 'balance', 'products_number', 'credit_card', 'active_member', 'estimated_salary']\n",
        "entrada = pd.DataFrame(data, columns=atributos)\n",
        "\n",
        "array_entrada = entrada.values\n",
        "X_entrada = array_entrada[:,0:10].astype(float)\n",
        "\n",
        "# Padronização nos dados de entrada usando o scaler utilizado em X\n",
        "rescaledEntradaX = scaler.transform(X_entrada)\n",
        "print(rescaledEntradaX)"
      ]
    },
    {
      "cell_type": "code",
      "execution_count": null,
      "metadata": {
        "colab": {
          "base_uri": "https://localhost:8080/"
        },
        "id": "nQf_VFWy5Qsm",
        "outputId": "1a700d36-6a82-4a1c-d612-dc90ff68e040"
      },
      "outputs": [
        {
          "name": "stdout",
          "output_type": "stream",
          "text": [
            "[0. 1.]\n"
          ]
        }
      ],
      "source": [
        "# Predição de classes dos dados de entrada\n",
        "saidas = model.predict(rescaledEntradaX)\n",
        "print(saidas)"
      ]
    },
    {
      "cell_type": "markdown",
      "metadata": {
        "id": "Nex5AAgnes6_"
      },
      "source": [
        "## Salvando arquivo pipeline do modelo escolhido para realização do teste de unidade (KNN)"
      ]
    },
    {
      "cell_type": "code",
      "execution_count": null,
      "metadata": {
        "colab": {
          "base_uri": "https://localhost:8080/"
        },
        "id": "XIU2LP_YhXM2",
        "outputId": "6acf3a86-df63-4478-ecb6-b6ea82fee3fd"
      },
      "outputs": [
        {
          "name": "stdout",
          "output_type": "stream",
          "text": [
            "0.8153333333333334\n"
          ]
        }
      ],
      "source": [
        "# Define semente global do bloco\n",
        "np.random.seed(7)\n",
        "\n",
        "# Define modelo\n",
        "model = KNeighborsClassifier(metric='euclidean', n_neighbors=9)\n",
        "\n",
        "# Prepara pipeline do melhor modelo\n",
        "pipeline = Pipeline(steps=[('MinMaxScaler', MinMaxScaler()), ('KNN', model)])\n",
        "pipeline.fit(X_train, y_train)\n",
        "predictions = pipeline.predict(X_test)\n",
        "\n",
        "print(accuracy_score(y_test, predictions))\n",
        "\n",
        "# Salvando o pipeline\n",
        "pipeline_filename = 'knn_Churn_pipeline.pkl'\n",
        "with open(pipeline_filename, 'wb') as file:\n",
        "    pickle.dump(pipeline, file)"
      ]
    }
  ],
  "metadata": {
    "colab": {
      "provenance": []
    },
    "kernelspec": {
      "display_name": "Python 3",
      "name": "python3"
    },
    "language_info": {
      "codemirror_mode": {
        "name": "ipython",
        "version": 3
      },
      "file_extension": ".py",
      "mimetype": "text/x-python",
      "name": "python",
      "nbconvert_exporter": "python",
      "pygments_lexer": "ipython3",
      "version": "3.12.4"
    }
  },
  "nbformat": 4,
  "nbformat_minor": 0
}
